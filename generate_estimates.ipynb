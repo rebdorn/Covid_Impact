{
 "cells": [
  {
   "cell_type": "code",
   "execution_count": null,
   "metadata": {},
   "outputs": [],
   "source": [
    "import pandas as pd\n",
    "import numpy as np"
   ]
  },
  {
   "cell_type": "code",
   "execution_count": null,
   "metadata": {},
   "outputs": [],
   "source": [
    "survey = pd.read_csv(\"/content/pulse2020_puf_13.csv\")\n",
    "replicated_theta = pd.read_csv(\"/content/pulse2020_repwgt_puf_13.csv\")\n",
    "\n",
    "uninsured = survey[(survey['PRIVHLTH'] == 2) & (survey['PUBHLTH'] == 2)] # households with neither public nor private health insurance\n",
    "uninsur_rcv = uninsured[(uninsured['SPNDSRC5'] == 1)] # uninsured AND recieved unemployment in last 7 days"
   ]
  },
  {
   "cell_type": "code",
   "execution_count": null,
   "metadata": {},
   "outputs": [],
   "source": [
    "# Store race totals for such a category\n",
    "uninsur_rcv_race = pd.DataFrame(columns = ['Hispanic', 'Non-Hispanic White', 'Non-Hispanic Black', 'Non-Hispanic Asian', 'Non-Hispanic Other'])\n",
    "uninsur_rcv_race.loc[0,['Hispanic']] = uninsur_rcv[uninsur_rcv['RHISPANIC'] == 2]['PWEIGHT'].sum()\n",
    "uninsur_rcv_race['Non-Hispanic White'] = uninsur_rcv[(uninsur_rcv['RRACE'] == 1)&(uninsur_rcv['RHISPANIC'] == 1)]['PWEIGHT'].sum()\n",
    "uninsur_rcv_race['Non-Hispanic Black'] = uninsur_rcv[(uninsur_rcv['RRACE'] == 2)&(uninsur_rcv['RHISPANIC'] == 1)]['PWEIGHT'].sum()\n",
    "uninsur_rcv_race['Non-Hispanic Asian'] = uninsur_rcv[(uninsur_rcv['RRACE'] == 3)&(uninsur_rcv['RHISPANIC'] == 1)]['PWEIGHT'].sum()\n",
    "uninsur_rcv_race['Non-Hispanic Other'] = uninsur_rcv[(uninsur_rcv['RRACE'] == 4)&(uninsur_rcv['RHISPANIC'] == 1)]['PWEIGHT'].sum()\n",
    "uninsur_rcv_race"
   ]
  },
  {
   "cell_type": "code",
   "execution_count": null,
   "metadata": {},
   "outputs": [],
   "source": [
    "# Store gender totals\n",
    "uninsur_rcv_gender = pd.DataFrame(columns = ['Male', 'Female'])\n",
    "uninsur_rcv_gender.loc[0,['Male']] = uninsur_rcv[uninsur_rcv['EGENDER'] == 1]['PWEIGHT'].sum()\n",
    "uninsur_rcv_gender.loc[0,['Female']] = uninsur_rcv[uninsur_rcv['EGENDER'] == 2]['PWEIGHT'].sum()\n",
    "uninsur_rcv_gender"
   ]
  },
  {
   "cell_type": "code",
   "execution_count": null,
   "metadata": {},
   "outputs": [],
   "source": [
    "print(\"Total estimated in described group who have families with people under 18:\")\n",
    "print(uninsur_rcv[uninsur_rcv['THHLD_NUMKID'] >= 1]['PWEIGHT'].sum())\n",
    "children = pd.DataFrame([uninsur_rcv[uninsur_rcv['THHLD_NUMKID'] >= 1]['PWEIGHT'].sum()])"
   ]
  },
  {
   "cell_type": "code",
   "execution_count": null,
   "metadata": {},
   "outputs": [],
   "source": [
    "up_to_hs = [1, 2, 3]\n",
    "some_college = [4]\n",
    "college_degree = [5, 6, 7] # associate's, bachelor's, grad\n",
    "\n",
    "education_levels = pd.DataFrame(columns = ['Up to High School', 'Some College', 'College/Associates/Masters'])\n",
    "education_levels.loc[0,['Up to High School']] = uninsur_rcv[uninsur_rcv['EEDUC'].isin(up_to_hs)]['PWEIGHT'].sum()\n",
    "education_levels['Some College'] = uninsur_rcv[uninsur_rcv['EEDUC'].isin(some_college)]['PWEIGHT'].sum()\n",
    "education_levels['College/Associates/Masters'] = uninsur_rcv[uninsur_rcv['EEDUC'].isin(college_degree)]['PWEIGHT'].sum()\n",
    "education_levels"
   ]
  },
  {
   "cell_type": "code",
   "execution_count": null,
   "metadata": {},
   "outputs": [],
   "source": [
    "# How much FOOD?\n",
    "enough_food_idx = [1, 2] # Enough of foods desired or disliked\n",
    "not_enough_food_idx = [3, 4] # sometimes or often not enough\n",
    "\n",
    "food_levels = pd.DataFrame()\n",
    "food_levels.loc[0,['Enough Food']] = uninsur_rcv[uninsur_rcv['CURFOODSUF'].isin(enough_food_idx)]['PWEIGHT'].sum()\n",
    "food_levels.loc[0,['Not Enough Food']] = uninsur_rcv[uninsur_rcv['CURFOODSUF'].isin(not_enough_food_idx)]['PWEIGHT'].sum()\n",
    "food_levels"
   ]
  },
  {
   "cell_type": "code",
   "execution_count": null,
   "metadata": {},
   "outputs": [],
   "source": [
    "conf = [3, 4] # Moderate to high confidence\n",
    "no_conf = [1,2] # None to slight confidence\n",
    "\n",
    "payment_confidence = pd.DataFrame()\n",
    "payment_confidence.loc[0,['None to Slight Confidence']] = uninsur_rcv[uninsur_rcv['MORTCONF'].isin(conf)]['PWEIGHT'].sum()\n",
    "payment_confidence['Moderate to High Confidence'] = uninsur_rcv[uninsur_rcv['MORTCONF'].isin(no_conf)]['PWEIGHT'].sum()\n",
    "payment_confidence"
   ]
  },
  {
   "cell_type": "code",
   "execution_count": null,
   "metadata": {},
   "outputs": [],
   "source": [
    "late_on_rent = uninsur_rcv[uninsur_rcv['RENTCUR'] == 2]['PWEIGHT'].sum()\n",
    "late_on_mort = uninsur_rcv[uninsur_rcv['MORTCUR'] == 2]['PWEIGHT'].sum()\n",
    "late_payment_total = pd.DataFrame([late_on_rent + late_on_mort])\n",
    "late_payment_total"
   ]
  }
 ],
 "metadata": {
  "kernelspec": {
   "display_name": "Python 3",
   "language": "python",
   "name": "python3"
  },
  "language_info": {
   "codemirror_mode": {
    "name": "ipython",
    "version": 3
   },
   "file_extension": ".py",
   "mimetype": "text/x-python",
   "name": "python",
   "nbconvert_exporter": "python",
   "pygments_lexer": "ipython3",
   "version": "3.7.3"
  }
 },
 "nbformat": 4,
 "nbformat_minor": 2
}
